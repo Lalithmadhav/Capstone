{
 "cells": [
  {
   "cell_type": "code",
   "execution_count": 1,
   "metadata": {
    "_cell_guid": "b1076dfc-b9ad-4769-8c92-a6c4dae69d19",
    "_uuid": "8f2839f25d086af736a60e9eeb907d3b93b6e0e5",
    "execution": {
     "iopub.execute_input": "2024-08-20T05:44:40.695598Z",
     "iopub.status.busy": "2024-08-20T05:44:40.694712Z",
     "iopub.status.idle": "2024-08-20T05:44:48.847799Z",
     "shell.execute_reply": "2024-08-20T05:44:48.846672Z",
     "shell.execute_reply.started": "2024-08-20T04:28:39.527977Z"
    },
    "papermill": {
     "duration": 8.184816,
     "end_time": "2024-08-20T05:44:48.848104",
     "exception": false,
     "start_time": "2024-08-20T05:44:40.663288",
     "status": "completed"
    },
    "tags": []
   },
   "outputs": [],
   "source": [
    "import pandas as pd\n",
    "import numpy as np\n",
    "import keras\n",
    "import keras.layers as L\n",
    "import keras.models as M\n",
    "import tensorflow as tf\n",
    "from PIL import Image\n",
    "import os\n",
    "import matplotlib.pyplot as plt\n",
    "import cv2\n",
    "from keras.utils import Sequence"
   ]
  },
  {
   "cell_type": "code",
   "execution_count": 2,
   "metadata": {
    "execution": {
     "iopub.execute_input": "2024-08-20T05:44:48.901049Z",
     "iopub.status.busy": "2024-08-20T05:44:48.900070Z",
     "iopub.status.idle": "2024-08-20T05:44:49.509851Z",
     "shell.execute_reply": "2024-08-20T05:44:49.509061Z",
     "shell.execute_reply.started": "2024-08-20T04:28:46.207784Z"
    },
    "papermill": {
     "duration": 0.639424,
     "end_time": "2024-08-20T05:44:49.510061",
     "exception": false,
     "start_time": "2024-08-20T05:44:48.870637",
     "status": "completed"
    },
    "tags": []
   },
   "outputs": [],
   "source": [
    "train=pd.read_csv('../input/handwriting-recognition/written_name_train_v2.csv')\n",
    "validation=pd.read_csv('../input/handwriting-recognition/written_name_validation_v2.csv')"
   ]
  },
  {
   "cell_type": "code",
   "execution_count": 3,
   "metadata": {
    "execution": {
     "iopub.execute_input": "2024-08-20T05:44:49.631198Z",
     "iopub.status.busy": "2024-08-20T05:44:49.630325Z",
     "iopub.status.idle": "2024-08-20T05:44:49.706250Z",
     "shell.execute_reply": "2024-08-20T05:44:49.705279Z",
     "shell.execute_reply.started": "2024-08-20T04:28:46.725725Z"
    },
    "papermill": {
     "duration": 0.174723,
     "end_time": "2024-08-20T05:44:49.706492",
     "exception": false,
     "start_time": "2024-08-20T05:44:49.531769",
     "status": "completed"
    },
    "tags": []
   },
   "outputs": [],
   "source": [
    "train.dropna(inplace=True)"
   ]
  },
  {
   "cell_type": "code",
   "execution_count": 4,
   "metadata": {
    "execution": {
     "iopub.execute_input": "2024-08-20T05:44:49.773160Z",
     "iopub.status.busy": "2024-08-20T05:44:49.771926Z",
     "iopub.status.idle": "2024-08-20T05:44:49.792488Z",
     "shell.execute_reply": "2024-08-20T05:44:49.793110Z",
     "shell.execute_reply.started": "2024-08-20T04:28:46.819910Z"
    },
    "papermill": {
     "duration": 0.063184,
     "end_time": "2024-08-20T05:44:49.793380",
     "exception": false,
     "start_time": "2024-08-20T05:44:49.730196",
     "status": "completed"
    },
    "tags": []
   },
   "outputs": [
    {
     "data": {
      "text/html": [
       "<div>\n",
       "<style scoped>\n",
       "    .dataframe tbody tr th:only-of-type {\n",
       "        vertical-align: middle;\n",
       "    }\n",
       "\n",
       "    .dataframe tbody tr th {\n",
       "        vertical-align: top;\n",
       "    }\n",
       "\n",
       "    .dataframe thead th {\n",
       "        text-align: right;\n",
       "    }\n",
       "</style>\n",
       "<table border=\"1\" class=\"dataframe\">\n",
       "  <thead>\n",
       "    <tr style=\"text-align: right;\">\n",
       "      <th></th>\n",
       "      <th>FILENAME</th>\n",
       "      <th>IDENTITY</th>\n",
       "    </tr>\n",
       "  </thead>\n",
       "  <tbody>\n",
       "    <tr>\n",
       "      <th>0</th>\n",
       "      <td>TRAIN_00001.jpg</td>\n",
       "      <td>BALTHAZAR</td>\n",
       "    </tr>\n",
       "    <tr>\n",
       "      <th>1</th>\n",
       "      <td>TRAIN_00002.jpg</td>\n",
       "      <td>SIMON</td>\n",
       "    </tr>\n",
       "    <tr>\n",
       "      <th>2</th>\n",
       "      <td>TRAIN_00003.jpg</td>\n",
       "      <td>BENES</td>\n",
       "    </tr>\n",
       "    <tr>\n",
       "      <th>3</th>\n",
       "      <td>TRAIN_00004.jpg</td>\n",
       "      <td>LA LOVE</td>\n",
       "    </tr>\n",
       "    <tr>\n",
       "      <th>4</th>\n",
       "      <td>TRAIN_00005.jpg</td>\n",
       "      <td>DAPHNE</td>\n",
       "    </tr>\n",
       "  </tbody>\n",
       "</table>\n",
       "</div>"
      ],
      "text/plain": [
       "          FILENAME   IDENTITY\n",
       "0  TRAIN_00001.jpg  BALTHAZAR\n",
       "1  TRAIN_00002.jpg      SIMON\n",
       "2  TRAIN_00003.jpg      BENES\n",
       "3  TRAIN_00004.jpg    LA LOVE\n",
       "4  TRAIN_00005.jpg     DAPHNE"
      ]
     },
     "execution_count": 4,
     "metadata": {},
     "output_type": "execute_result"
    }
   ],
   "source": [
    "train.head()"
   ]
  },
  {
   "cell_type": "code",
   "execution_count": 5,
   "metadata": {
    "execution": {
     "iopub.execute_input": "2024-08-20T05:44:49.908514Z",
     "iopub.status.busy": "2024-08-20T05:44:49.905865Z",
     "iopub.status.idle": "2024-08-20T05:44:49.913203Z",
     "shell.execute_reply": "2024-08-20T05:44:49.913836Z",
     "shell.execute_reply.started": "2024-08-20T04:28:46.850866Z"
    },
    "papermill": {
     "duration": 0.096748,
     "end_time": "2024-08-20T05:44:49.914087",
     "exception": false,
     "start_time": "2024-08-20T05:44:49.817339",
     "status": "completed"
    },
    "tags": []
   },
   "outputs": [
    {
     "data": {
      "text/html": [
       "<div>\n",
       "<style scoped>\n",
       "    .dataframe tbody tr th:only-of-type {\n",
       "        vertical-align: middle;\n",
       "    }\n",
       "\n",
       "    .dataframe tbody tr th {\n",
       "        vertical-align: top;\n",
       "    }\n",
       "\n",
       "    .dataframe thead th {\n",
       "        text-align: right;\n",
       "    }\n",
       "</style>\n",
       "<table border=\"1\" class=\"dataframe\">\n",
       "  <thead>\n",
       "    <tr style=\"text-align: right;\">\n",
       "      <th></th>\n",
       "      <th>FILENAME</th>\n",
       "      <th>IDENTITY</th>\n",
       "    </tr>\n",
       "  </thead>\n",
       "  <tbody>\n",
       "    <tr>\n",
       "      <th>20507</th>\n",
       "      <td>TRAIN_20508.jpg</td>\n",
       "      <td>zucchi</td>\n",
       "    </tr>\n",
       "  </tbody>\n",
       "</table>\n",
       "</div>"
      ],
      "text/plain": [
       "              FILENAME IDENTITY\n",
       "20507  TRAIN_20508.jpg   zucchi"
      ]
     },
     "execution_count": 5,
     "metadata": {},
     "output_type": "execute_result"
    }
   ],
   "source": [
    "train[train['IDENTITY']=='zucchi']"
   ]
  },
  {
   "cell_type": "code",
   "execution_count": 6,
   "metadata": {
    "execution": {
     "iopub.execute_input": "2024-08-20T05:44:49.970385Z",
     "iopub.status.busy": "2024-08-20T05:44:49.969170Z",
     "iopub.status.idle": "2024-08-20T05:44:50.598817Z",
     "shell.execute_reply": "2024-08-20T05:44:50.598103Z",
     "shell.execute_reply.started": "2024-08-20T04:28:46.892673Z"
    },
    "papermill": {
     "duration": 0.659712,
     "end_time": "2024-08-20T05:44:50.599013",
     "exception": false,
     "start_time": "2024-08-20T05:44:49.939301",
     "status": "completed"
    },
    "tags": []
   },
   "outputs": [
    {
     "data": {
      "text/html": [
       "<div>\n",
       "<style scoped>\n",
       "    .dataframe tbody tr th:only-of-type {\n",
       "        vertical-align: middle;\n",
       "    }\n",
       "\n",
       "    .dataframe tbody tr th {\n",
       "        vertical-align: top;\n",
       "    }\n",
       "\n",
       "    .dataframe thead th {\n",
       "        text-align: right;\n",
       "    }\n",
       "</style>\n",
       "<table border=\"1\" class=\"dataframe\">\n",
       "  <thead>\n",
       "    <tr style=\"text-align: right;\">\n",
       "      <th></th>\n",
       "      <th>FILENAME</th>\n",
       "      <th>IDENTITY</th>\n",
       "      <th>Length</th>\n",
       "    </tr>\n",
       "  </thead>\n",
       "  <tbody>\n",
       "    <tr>\n",
       "      <th>10278</th>\n",
       "      <td>TRAIN_10279.jpg</td>\n",
       "      <td>DOSSANTOS LASCONCELOS</td>\n",
       "      <td>21</td>\n",
       "    </tr>\n",
       "    <tr>\n",
       "      <th>108567</th>\n",
       "      <td>TRAIN_108568.jpg</td>\n",
       "      <td>O ZUARRDI EREBEVITRAC</td>\n",
       "      <td>21</td>\n",
       "    </tr>\n",
       "    <tr>\n",
       "      <th>156500</th>\n",
       "      <td>TRAIN_156501.jpg</td>\n",
       "      <td>ANDRIANNARISOA--DEGHI</td>\n",
       "      <td>21</td>\n",
       "    </tr>\n",
       "    <tr>\n",
       "      <th>160575</th>\n",
       "      <td>TRAIN_160576.jpg</td>\n",
       "      <td>LOUISIANE - EVANGELIN</td>\n",
       "      <td>21</td>\n",
       "    </tr>\n",
       "    <tr>\n",
       "      <th>174121</th>\n",
       "      <td>TRAIN_174122.jpg</td>\n",
       "      <td>GU ILLOSSOO - OARRIBA</td>\n",
       "      <td>21</td>\n",
       "    </tr>\n",
       "    <tr>\n",
       "      <th>212583</th>\n",
       "      <td>TRAIN_212584.jpg</td>\n",
       "      <td>DE MALEZIEUX DU HAMEL</td>\n",
       "      <td>21</td>\n",
       "    </tr>\n",
       "    <tr>\n",
       "      <th>220135</th>\n",
       "      <td>TRAIN_220136.jpg</td>\n",
       "      <td>COSTREL DE CORAINVILL</td>\n",
       "      <td>21</td>\n",
       "    </tr>\n",
       "    <tr>\n",
       "      <th>229529</th>\n",
       "      <td>TRAIN_229530.jpg</td>\n",
       "      <td>ROUSSEAV -- CHAUDIERE</td>\n",
       "      <td>21</td>\n",
       "    </tr>\n",
       "    <tr>\n",
       "      <th>230011</th>\n",
       "      <td>TRAIN_230012.jpg</td>\n",
       "      <td>BEKNARD DE LAVERNETTE</td>\n",
       "      <td>21</td>\n",
       "    </tr>\n",
       "    <tr>\n",
       "      <th>308769</th>\n",
       "      <td>TRAIN_308770.jpg</td>\n",
       "      <td>DATE NAISSANCE CLASSE</td>\n",
       "      <td>21</td>\n",
       "    </tr>\n",
       "    <tr>\n",
       "      <th>325215</th>\n",
       "      <td>TRAIN_325216.jpg</td>\n",
       "      <td>BEHARY - LAUL - SIRDE</td>\n",
       "      <td>21</td>\n",
       "    </tr>\n",
       "  </tbody>\n",
       "</table>\n",
       "</div>"
      ],
      "text/plain": [
       "                FILENAME               IDENTITY  Length\n",
       "10278    TRAIN_10279.jpg  DOSSANTOS LASCONCELOS      21\n",
       "108567  TRAIN_108568.jpg  O ZUARRDI EREBEVITRAC      21\n",
       "156500  TRAIN_156501.jpg  ANDRIANNARISOA--DEGHI      21\n",
       "160575  TRAIN_160576.jpg  LOUISIANE - EVANGELIN      21\n",
       "174121  TRAIN_174122.jpg  GU ILLOSSOO - OARRIBA      21\n",
       "212583  TRAIN_212584.jpg  DE MALEZIEUX DU HAMEL      21\n",
       "220135  TRAIN_220136.jpg  COSTREL DE CORAINVILL      21\n",
       "229529  TRAIN_229530.jpg  ROUSSEAV -- CHAUDIERE      21\n",
       "230011  TRAIN_230012.jpg  BEKNARD DE LAVERNETTE      21\n",
       "308769  TRAIN_308770.jpg  DATE NAISSANCE CLASSE      21\n",
       "325215  TRAIN_325216.jpg  BEHARY - LAUL - SIRDE      21"
      ]
     },
     "execution_count": 6,
     "metadata": {},
     "output_type": "execute_result"
    }
   ],
   "source": [
    "train['Length']=train['IDENTITY'].apply(lambda x : len(str(x)))\n",
    "train=train[train['Length']<=21]\n",
    "train['IDENTITY']=train['IDENTITY'].str.upper()\n",
    "train[train['Length']==max(train['Length'])]"
   ]
  },
  {
   "cell_type": "code",
   "execution_count": 7,
   "metadata": {
    "execution": {
     "iopub.execute_input": "2024-08-20T05:44:50.653999Z",
     "iopub.status.busy": "2024-08-20T05:44:50.652111Z",
     "iopub.status.idle": "2024-08-20T05:44:50.787186Z",
     "shell.execute_reply": "2024-08-20T05:44:50.786565Z",
     "shell.execute_reply.started": "2024-08-20T04:28:47.329792Z"
    },
    "papermill": {
     "duration": 0.164449,
     "end_time": "2024-08-20T05:44:50.787372",
     "exception": false,
     "start_time": "2024-08-20T05:44:50.622923",
     "status": "completed"
    },
    "tags": []
   },
   "outputs": [],
   "source": [
    "train=train.sample(frac=0.8,random_state=42)\n",
    "validation=validation.sample(frac=0.1)"
   ]
  },
  {
   "cell_type": "code",
   "execution_count": 8,
   "metadata": {
    "execution": {
     "iopub.execute_input": "2024-08-20T05:44:50.845907Z",
     "iopub.status.busy": "2024-08-20T05:44:50.845028Z",
     "iopub.status.idle": "2024-08-20T05:44:51.432886Z",
     "shell.execute_reply": "2024-08-20T05:44:51.433592Z",
     "shell.execute_reply.started": "2024-08-20T04:28:47.412609Z"
    },
    "papermill": {
     "duration": 0.623722,
     "end_time": "2024-08-20T05:44:51.433810",
     "exception": false,
     "start_time": "2024-08-20T05:44:50.810088",
     "status": "completed"
    },
    "tags": []
   },
   "outputs": [],
   "source": [
    "characters=set()\n",
    "train['IDENTITY']=train['IDENTITY'].apply(lambda x: str(x))\n",
    "for i in train['IDENTITY'].values:\n",
    "    for j in i :\n",
    "        if j not in characters :\n",
    "            characters.add(j)\n",
    "characters=sorted(characters)"
   ]
  },
  {
   "cell_type": "code",
   "execution_count": 9,
   "metadata": {
    "execution": {
     "iopub.execute_input": "2024-08-20T05:44:51.488564Z",
     "iopub.status.busy": "2024-08-20T05:44:51.487758Z",
     "iopub.status.idle": "2024-08-20T05:44:51.491332Z",
     "shell.execute_reply": "2024-08-20T05:44:51.490471Z",
     "shell.execute_reply.started": "2024-08-20T04:28:47.771671Z"
    },
    "papermill": {
     "duration": 0.03422,
     "end_time": "2024-08-20T05:44:51.491591",
     "exception": false,
     "start_time": "2024-08-20T05:44:51.457371",
     "status": "completed"
    },
    "tags": []
   },
   "outputs": [],
   "source": [
    "# 2 Dictionaries  :   Turn all ur characters to num and vice versa\n",
    "char_to_label = {char:label for label,char in enumerate(characters)}\n",
    "label_to_char = {label:char for label,char in enumerate(characters)}"
   ]
  },
  {
   "cell_type": "code",
   "execution_count": 10,
   "metadata": {
    "execution": {
     "iopub.execute_input": "2024-08-20T05:44:51.545364Z",
     "iopub.status.busy": "2024-08-20T05:44:51.544131Z",
     "iopub.status.idle": "2024-08-20T05:44:51.547862Z",
     "shell.execute_reply": "2024-08-20T05:44:51.547085Z",
     "shell.execute_reply.started": "2024-08-20T04:28:47.779063Z"
    },
    "papermill": {
     "duration": 0.033499,
     "end_time": "2024-08-20T05:44:51.548046",
     "exception": false,
     "start_time": "2024-08-20T05:44:51.514547",
     "status": "completed"
    },
    "tags": []
   },
   "outputs": [],
   "source": [
    "path_train='../input/handwriting-recognition/train_v2/train'\n",
    "path_validation='../input/handwriting-recognition/validation_v2/validation'"
   ]
  },
  {
   "cell_type": "code",
   "execution_count": 11,
   "metadata": {
    "execution": {
     "iopub.execute_input": "2024-08-20T05:44:51.620696Z",
     "iopub.status.busy": "2024-08-20T05:44:51.611338Z",
     "iopub.status.idle": "2024-08-20T05:44:51.624027Z",
     "shell.execute_reply": "2024-08-20T05:44:51.625132Z",
     "shell.execute_reply.started": "2024-08-20T04:28:47.792260Z"
    },
    "papermill": {
     "duration": 0.052821,
     "end_time": "2024-08-20T05:44:51.625502",
     "exception": false,
     "start_time": "2024-08-20T05:44:51.572681",
     "status": "completed"
    },
    "tags": []
   },
   "outputs": [],
   "source": [
    "# Data Generator\n",
    "class DataGenerator(Sequence):\n",
    "    def __init__(self,dataframe,path,char_map,batch_size=128,img_size=(256,64),\n",
    "                 downsample_factor=4,max_length=22,shuffle=True):\n",
    "        self.dataframe=dataframe\n",
    "        self.path=path\n",
    "        self.char_map=char_map\n",
    "        self.batch_size=batch_size\n",
    "        self.width=img_size[0]\n",
    "        self.height=img_size[1]\n",
    "        self.downsample_factor=downsample_factor\n",
    "        self.max_length=max_length\n",
    "        self.shuffle=shuffle\n",
    "        self.indices = np.arange(len(dataframe))\n",
    "        self.on_epoch_end()\n",
    "        \n",
    "    def __len__(self):\n",
    "        return len(self.dataframe)//self.batch_size\n",
    "    \n",
    "    def __getitem__(self,idx):\n",
    "        curr_batch_idx=self.indices[idx*self.batch_size:(idx+1)*self.batch_size]\n",
    "        batch_images=np.ones((self.batch_size,self.width,self.height,1),dtype=np.float32)\n",
    "        batch_labels=np.ones((self.batch_size,self.max_length),dtype=np.float32)\n",
    "        input_length=np.ones((self.batch_size,1),dtype=np.float32)*(self.width//self.downsample_factor-2)\n",
    "        label_length=np.zeros((self.batch_size,1),dtype=np.int64)\n",
    "        for i,idx in enumerate(curr_batch_idx):\n",
    "            img_path=self.dataframe['FILENAME'].values[idx]\n",
    "            img=cv2.imread(self.path+'/'+img_path)\n",
    "            img=cv2.cvtColor(img, cv2.COLOR_BGR2GRAY)\n",
    "            img=cv2.resize(img,(self.width,self.height))\n",
    "            img=(img/255).astype(np.float32)\n",
    "            img=img.T\n",
    "            img=np.expand_dims(img,axis=-1)\n",
    "            text=self.dataframe['IDENTITY'].values[idx]\n",
    "            text=str(text)\n",
    "            label=[]\n",
    "            for j in text: \n",
    "                if j in self.char_map :\n",
    "                    label.append(self.char_map[j])\n",
    "                else:\n",
    "                    label.append(100)\n",
    "            label.extend([100]*(22-len(label)))\n",
    "            batch_images[i]=img\n",
    "            batch_labels[i]=label\n",
    "            label_length[i]=len(label)\n",
    "        batch_inputs= {\n",
    "                'input_data':batch_images,\n",
    "                'input_label':batch_labels,\n",
    "                'input_length':input_length,\n",
    "                'label_length':label_length\n",
    "                \n",
    "            }\n",
    "        return batch_inputs,np.zeros((self.batch_size),dtype=np.float32)\n",
    "    def on_epoch_end(self):\n",
    "        if self.shuffle == True :\n",
    "            np.random.shuffle(self.indices)\n",
    "        "
   ]
  },
  {
   "cell_type": "code",
   "execution_count": 12,
   "metadata": {
    "execution": {
     "iopub.execute_input": "2024-08-20T05:44:51.681682Z",
     "iopub.status.busy": "2024-08-20T05:44:51.680587Z",
     "iopub.status.idle": "2024-08-20T05:44:51.696025Z",
     "shell.execute_reply": "2024-08-20T05:44:51.695039Z",
     "shell.execute_reply.started": "2024-08-20T04:28:47.810892Z"
    },
    "papermill": {
     "duration": 0.045987,
     "end_time": "2024-08-20T05:44:51.696238",
     "exception": false,
     "start_time": "2024-08-20T05:44:51.650251",
     "status": "completed"
    },
    "tags": []
   },
   "outputs": [],
   "source": [
    "train_generator=DataGenerator(train,path_train,char_to_label)\n",
    "validation_generator=DataGenerator(validation,path_validation,char_to_label)"
   ]
  },
  {
   "cell_type": "code",
   "execution_count": 13,
   "metadata": {
    "execution": {
     "iopub.execute_input": "2024-08-20T05:44:51.759384Z",
     "iopub.status.busy": "2024-08-20T05:44:51.757927Z",
     "iopub.status.idle": "2024-08-20T05:44:51.761467Z",
     "shell.execute_reply": "2024-08-20T05:44:51.760753Z",
     "shell.execute_reply.started": "2024-08-20T04:28:47.834214Z"
    },
    "papermill": {
     "duration": 0.041432,
     "end_time": "2024-08-20T05:44:51.761719",
     "exception": false,
     "start_time": "2024-08-20T05:44:51.720287",
     "status": "completed"
    },
    "tags": []
   },
   "outputs": [],
   "source": [
    "# Making CTC Function\n",
    "class CTCLayer(L.Layer):\n",
    "    def __init__(self, name=None):\n",
    "        super().__init__(name=name)\n",
    "        self.loss_fn = keras.backend.ctc_batch_cost\n",
    "\n",
    "    def call(self, y_true, y_pred, input_length, label_length):\n",
    "        # Compute the training-time loss value and add it\n",
    "        # to the layer using `self.add_loss()`.\n",
    "        loss = self.loss_fn(y_true, y_pred, input_length, label_length)\n",
    "        self.add_loss(loss)\n",
    "        \n",
    "        # On test time, just return the computed loss\n",
    "        return loss"
   ]
  },
  {
   "cell_type": "code",
   "execution_count": 14,
   "metadata": {
    "execution": {
     "iopub.execute_input": "2024-08-20T05:44:51.826571Z",
     "iopub.status.busy": "2024-08-20T05:44:51.825309Z",
     "iopub.status.idle": "2024-08-20T05:44:51.829426Z",
     "shell.execute_reply": "2024-08-20T05:44:51.828606Z",
     "shell.execute_reply.started": "2024-08-20T04:28:47.845240Z"
    },
    "papermill": {
     "duration": 0.04442,
     "end_time": "2024-08-20T05:44:51.829616",
     "exception": false,
     "start_time": "2024-08-20T05:44:51.785196",
     "status": "completed"
    },
    "tags": []
   },
   "outputs": [],
   "source": [
    "# Making the Model now\n",
    "def make_model():\n",
    "    inp=L.Input(shape=(256,64,1),dtype=np.float32,name='input_data')\n",
    "    labels=L.Input(shape=[22],dtype=np.float32,name='input_label')\n",
    "    input_length=L.Input(shape=[1],dtype=np.int64,name='input_length')\n",
    "    label_length=L.Input(shape=[1],dtype=np.int64,name='label_length')\n",
    "    x=L.Conv2D(64,(3,3),activation='relu',padding='same',kernel_initializer='he_normal')(inp)\n",
    "    x=L.MaxPooling2D(pool_size=(2,2))(x)\n",
    "    x=L.Dropout(0.3)(x)\n",
    "    x=L.Conv2D(128,(3,3),activation='relu',padding='same',kernel_initializer='he_normal')(x)\n",
    "    x=L.MaxPooling2D(pool_size=(2,2))(x)\n",
    "    x=L.Dropout(0.3)(x)\n",
    "    new_shape=((256//4),(64//4)*128)\n",
    "    x=L.Reshape(new_shape)(x)\n",
    "    x=L.Dense(64,activation='relu')(x)\n",
    "    x=L.Dropout(0.2)(x)\n",
    "    x=L.Bidirectional(L.LSTM(128,return_sequences=True,dropout=0.2))(x)\n",
    "    x=L.Bidirectional(L.LSTM(64,return_sequences=True,dropout=0.25))(x)\n",
    "    x=L.Dense(len(characters)+1,activation='softmax',kernel_initializer='he_normal',name='Dense_output')(x)\n",
    "    output=CTCLayer(name='outputs')(labels,x,input_length,label_length)\n",
    "    model=M.Model([inp,labels,input_length,label_length],output)\n",
    "    # Optimizer\n",
    "    sgd = keras.optimizers.SGD(learning_rate=0.002,\n",
    "                               decay=1e-6,\n",
    "                               momentum=0.9,\n",
    "                               nesterov=True,\n",
    "                               clipnorm=5)\n",
    "    model.compile(optimizer=sgd)\n",
    "    return model"
   ]
  },
  {
   "cell_type": "code",
   "execution_count": 15,
   "metadata": {
    "execution": {
     "iopub.execute_input": "2024-08-20T05:44:51.882195Z",
     "iopub.status.busy": "2024-08-20T05:44:51.881370Z",
     "iopub.status.idle": "2024-08-20T05:44:53.476728Z",
     "shell.execute_reply": "2024-08-20T05:44:53.475502Z",
     "shell.execute_reply.started": "2024-08-20T04:28:47.860132Z"
    },
    "papermill": {
     "duration": 1.624415,
     "end_time": "2024-08-20T05:44:53.477006",
     "exception": false,
     "start_time": "2024-08-20T05:44:51.852591",
     "status": "completed"
    },
    "tags": []
   },
   "outputs": [
    {
     "name": "stdout",
     "output_type": "stream",
     "text": [
      "Model: \"model\"\n",
      "__________________________________________________________________________________________________\n",
      "Layer (type)                    Output Shape         Param #     Connected to                     \n",
      "==================================================================================================\n",
      "input_data (InputLayer)         [(None, 256, 64, 1)] 0                                            \n",
      "__________________________________________________________________________________________________\n",
      "conv2d (Conv2D)                 (None, 256, 64, 64)  640         input_data[0][0]                 \n",
      "__________________________________________________________________________________________________\n",
      "max_pooling2d (MaxPooling2D)    (None, 128, 32, 64)  0           conv2d[0][0]                     \n",
      "__________________________________________________________________________________________________\n",
      "dropout (Dropout)               (None, 128, 32, 64)  0           max_pooling2d[0][0]              \n",
      "__________________________________________________________________________________________________\n",
      "conv2d_1 (Conv2D)               (None, 128, 32, 128) 73856       dropout[0][0]                    \n",
      "__________________________________________________________________________________________________\n",
      "max_pooling2d_1 (MaxPooling2D)  (None, 64, 16, 128)  0           conv2d_1[0][0]                   \n",
      "__________________________________________________________________________________________________\n",
      "dropout_1 (Dropout)             (None, 64, 16, 128)  0           max_pooling2d_1[0][0]            \n",
      "__________________________________________________________________________________________________\n",
      "reshape (Reshape)               (None, 64, 2048)     0           dropout_1[0][0]                  \n",
      "__________________________________________________________________________________________________\n",
      "dense (Dense)                   (None, 64, 64)       131136      reshape[0][0]                    \n",
      "__________________________________________________________________________________________________\n",
      "dropout_2 (Dropout)             (None, 64, 64)       0           dense[0][0]                      \n",
      "__________________________________________________________________________________________________\n",
      "bidirectional (Bidirectional)   (None, 64, 256)      197632      dropout_2[0][0]                  \n",
      "__________________________________________________________________________________________________\n",
      "bidirectional_1 (Bidirectional) (None, 64, 128)      164352      bidirectional[0][0]              \n",
      "__________________________________________________________________________________________________\n",
      "input_label (InputLayer)        [(None, 22)]         0                                            \n",
      "__________________________________________________________________________________________________\n",
      "Dense_output (Dense)            (None, 64, 31)       3999        bidirectional_1[0][0]            \n",
      "__________________________________________________________________________________________________\n",
      "input_length (InputLayer)       [(None, 1)]          0                                            \n",
      "__________________________________________________________________________________________________\n",
      "label_length (InputLayer)       [(None, 1)]          0                                            \n",
      "__________________________________________________________________________________________________\n",
      "outputs (CTCLayer)              (None, 1)            0           input_label[0][0]                \n",
      "                                                                 Dense_output[0][0]               \n",
      "                                                                 input_length[0][0]               \n",
      "                                                                 label_length[0][0]               \n",
      "==================================================================================================\n",
      "Total params: 571,615\n",
      "Trainable params: 571,615\n",
      "Non-trainable params: 0\n",
      "__________________________________________________________________________________________________\n"
     ]
    }
   ],
   "source": [
    "model=make_model()\n",
    "model.summary()"
   ]
  },
  {
   "cell_type": "code",
   "execution_count": 16,
   "metadata": {
    "execution": {
     "iopub.execute_input": "2024-08-20T05:44:53.536102Z",
     "iopub.status.busy": "2024-08-20T05:44:53.535189Z",
     "iopub.status.idle": "2024-08-20T07:03:31.971698Z",
     "shell.execute_reply": "2024-08-20T07:03:31.972439Z",
     "shell.execute_reply.started": "2024-08-20T04:28:49.237957Z"
    },
    "papermill": {
     "duration": 4718.469782,
     "end_time": "2024-08-20T07:03:31.972711",
     "exception": false,
     "start_time": "2024-08-20T05:44:53.502929",
     "status": "completed"
    },
    "tags": []
   },
   "outputs": [
    {
     "name": "stdout",
     "output_type": "stream",
     "text": [
      "Epoch 1/8\n",
      "100/100 [==============================] - 599s 6s/step - loss: 41.6939 - val_loss: 20.5484\n",
      "Epoch 2/8\n",
      "100/100 [==============================] - 586s 6s/step - loss: 20.6826 - val_loss: 20.4315\n",
      "Epoch 3/8\n",
      "100/100 [==============================] - 588s 6s/step - loss: 20.5238 - val_loss: 20.1641\n",
      "Epoch 4/8\n",
      "100/100 [==============================] - 588s 6s/step - loss: 20.3014 - val_loss: 20.0370\n",
      "Epoch 5/8\n",
      "100/100 [==============================] - 589s 6s/step - loss: 20.0995 - val_loss: 19.6323\n",
      "Epoch 6/8\n",
      "100/100 [==============================] - 591s 6s/step - loss: 19.8809 - val_loss: 19.4921\n",
      "Epoch 7/8\n",
      "100/100 [==============================] - 587s 6s/step - loss: 19.4899 - val_loss: 19.2203\n",
      "Epoch 8/8\n",
      "100/100 [==============================] - 589s 6s/step - loss: 19.4658 - val_loss: 19.1668\n"
     ]
    }
   ],
   "source": [
    "# Add early stopping\n",
    "es = keras.callbacks.EarlyStopping(monitor='val_loss',\n",
    "                                   patience=3,\n",
    "                                   restore_best_weights=True)\n",
    "\n",
    "# Train the model\n",
    "if 'prediction_model_ocr.h5' not in os.listdir('./'):\n",
    "    history = model.fit(train_generator,steps_per_epoch=100,validation_data=validation_generator,\n",
    "                        epochs=8)\n"
   ]
  },
  {
   "cell_type": "code",
   "execution_count": 17,
   "metadata": {
    "execution": {
     "iopub.execute_input": "2024-08-20T07:03:32.661264Z",
     "iopub.status.busy": "2024-08-20T07:03:32.657673Z",
     "iopub.status.idle": "2024-08-20T07:03:32.671023Z",
     "shell.execute_reply": "2024-08-20T07:03:32.671704Z",
     "shell.execute_reply.started": "2024-08-20T05:33:29.166982Z"
    },
    "papermill": {
     "duration": 0.366961,
     "end_time": "2024-08-20T07:03:32.671944",
     "exception": false,
     "start_time": "2024-08-20T07:03:32.304983",
     "status": "completed"
    },
    "tags": []
   },
   "outputs": [
    {
     "name": "stdout",
     "output_type": "stream",
     "text": [
      "Model: \"model_1\"\n",
      "_________________________________________________________________\n",
      "Layer (type)                 Output Shape              Param #   \n",
      "=================================================================\n",
      "input_data (InputLayer)      [(None, 256, 64, 1)]      0         \n",
      "_________________________________________________________________\n",
      "conv2d (Conv2D)              (None, 256, 64, 64)       640       \n",
      "_________________________________________________________________\n",
      "max_pooling2d (MaxPooling2D) (None, 128, 32, 64)       0         \n",
      "_________________________________________________________________\n",
      "dropout (Dropout)            (None, 128, 32, 64)       0         \n",
      "_________________________________________________________________\n",
      "conv2d_1 (Conv2D)            (None, 128, 32, 128)      73856     \n",
      "_________________________________________________________________\n",
      "max_pooling2d_1 (MaxPooling2 (None, 64, 16, 128)       0         \n",
      "_________________________________________________________________\n",
      "dropout_1 (Dropout)          (None, 64, 16, 128)       0         \n",
      "_________________________________________________________________\n",
      "reshape (Reshape)            (None, 64, 2048)          0         \n",
      "_________________________________________________________________\n",
      "dense (Dense)                (None, 64, 64)            131136    \n",
      "_________________________________________________________________\n",
      "dropout_2 (Dropout)          (None, 64, 64)            0         \n",
      "_________________________________________________________________\n",
      "bidirectional (Bidirectional (None, 64, 256)           197632    \n",
      "_________________________________________________________________\n",
      "bidirectional_1 (Bidirection (None, 64, 128)           164352    \n",
      "_________________________________________________________________\n",
      "Dense_output (Dense)         (None, 64, 31)            3999      \n",
      "=================================================================\n",
      "Total params: 571,615\n",
      "Trainable params: 571,615\n",
      "Non-trainable params: 0\n",
      "_________________________________________________________________\n"
     ]
    }
   ],
   "source": [
    "prediction_model = keras.models.Model(model.get_layer(name='input_data').input,\n",
    "                                        model.get_layer(name='Dense_output').output)\n",
    "prediction_model.summary()"
   ]
  },
  {
   "cell_type": "code",
   "execution_count": 18,
   "metadata": {
    "execution": {
     "iopub.execute_input": "2024-08-20T07:03:33.391768Z",
     "iopub.status.busy": "2024-08-20T07:03:33.370423Z",
     "iopub.status.idle": "2024-08-20T07:03:34.615096Z",
     "shell.execute_reply": "2024-08-20T07:03:34.615836Z",
     "shell.execute_reply.started": "2024-08-20T05:33:29.190287Z"
    },
    "papermill": {
     "duration": 1.590972,
     "end_time": "2024-08-20T07:03:34.616085",
     "exception": false,
     "start_time": "2024-08-20T07:03:33.025113",
     "status": "completed"
    },
    "tags": []
   },
   "outputs": [],
   "source": [
    "if 'prediction_model_ocr.h5' not in os.listdir('./'):\n",
    "    prediction_model.save('prediction_model_ocr.h5')\n",
    "    prediction_model=M.load_model('prediction_model_ocr.h5')"
   ]
  },
  {
   "cell_type": "code",
   "execution_count": 19,
   "metadata": {
    "execution": {
     "iopub.execute_input": "2024-08-20T07:03:35.325714Z",
     "iopub.status.busy": "2024-08-20T07:03:35.324659Z",
     "iopub.status.idle": "2024-08-20T07:03:35.329046Z",
     "shell.execute_reply": "2024-08-20T07:03:35.328270Z",
     "shell.execute_reply.started": "2024-08-20T05:33:30.424215Z"
    },
    "papermill": {
     "duration": 0.364743,
     "end_time": "2024-08-20T07:03:35.329228",
     "exception": false,
     "start_time": "2024-08-20T07:03:34.964485",
     "status": "completed"
    },
    "tags": []
   },
   "outputs": [],
   "source": [
    "label_to_char[100]=''"
   ]
  },
  {
   "cell_type": "code",
   "execution_count": 20,
   "metadata": {
    "execution": {
     "iopub.execute_input": "2024-08-20T07:03:36.016499Z",
     "iopub.status.busy": "2024-08-20T07:03:36.015440Z",
     "iopub.status.idle": "2024-08-20T07:03:36.019027Z",
     "shell.execute_reply": "2024-08-20T07:03:36.018250Z",
     "shell.execute_reply.started": "2024-08-20T05:33:30.431048Z"
    },
    "papermill": {
     "duration": 0.350387,
     "end_time": "2024-08-20T07:03:36.019236",
     "exception": false,
     "start_time": "2024-08-20T07:03:35.668849",
     "status": "completed"
    },
    "tags": []
   },
   "outputs": [],
   "source": [
    "# A utility to decode the output of the network\n",
    "def decode_batch_predictions(pred):\n",
    "    pred = pred[:, :-2]\n",
    "    input_len = np.ones(pred.shape[0])*pred.shape[1]\n",
    "    \n",
    "    # Use greedy search. For complex tasks, you can use beam search\n",
    "    results = keras.backend.ctc_decode(pred, \n",
    "                                        input_length=input_len,\n",
    "                                        greedy=True)[0][0]\n",
    "    \n",
    "    # Iterate over the results and get back the text\n",
    "    output_text = []\n",
    "    for res in results.numpy():\n",
    "        outstr = ''\n",
    "        for c in res:\n",
    "            if c < len(characters) and c >=0:\n",
    "                outstr += label_to_char[c]\n",
    "        output_text.append(outstr)\n",
    "    \n",
    "    # return final text results\n",
    "    return output_text"
   ]
  },
  {
   "cell_type": "code",
   "execution_count": 21,
   "metadata": {
    "execution": {
     "iopub.execute_input": "2024-08-20T07:03:36.703385Z",
     "iopub.status.busy": "2024-08-20T07:03:36.702085Z",
     "iopub.status.idle": "2024-08-20T07:03:40.853722Z",
     "shell.execute_reply": "2024-08-20T07:03:40.852802Z",
     "shell.execute_reply.started": "2024-08-20T05:33:30.443820Z"
    },
    "papermill": {
     "duration": 4.496717,
     "end_time": "2024-08-20T07:03:40.853920",
     "exception": false,
     "start_time": "2024-08-20T07:03:36.357203",
     "status": "completed"
    },
    "tags": []
   },
   "outputs": [
    {
     "name": "stdout",
     "output_type": "stream",
     "text": [
      "Ground truth: THOMAS \t Predicted: LA\n",
      "Ground truth: RAYNAUD \t Predicted: CA\n",
      "Ground truth: BENTAIBA \t Predicted: CAR\n",
      "Ground truth: JEAN \t Predicted: LA\n",
      "Ground truth: JULIE \t Predicted: LA\n",
      "Ground truth: MAELYS \t Predicted: LAR\n",
      "Ground truth: JIGOREI \t Predicted: CAR\n",
      "Ground truth: HILAL \t Predicted: LA\n",
      "Ground truth: MARIANNE \t Predicted: CAR\n",
      "Ground truth: MALORY \t Predicted: MAR\n",
      "Ground truth: MARGOT \t Predicted: MAR\n",
      "Ground truth: RIVALAN \t Predicted: CA\n",
      "Ground truth: OSCAR \t Predicted: LA\n",
      "Ground truth: BARBETTE \t Predicted: CAR\n",
      "Ground truth: ROMAN \t Predicted: LA\n",
      "Ground truth: THEO \t Predicted: LA\n",
      "Ground truth: GEORGIEVSKI \t Predicted: CAR\n",
      "Ground truth: LAURA \t Predicted: MAR\n",
      "Ground truth: MATEO \t Predicted: LE\n",
      "Ground truth: BILLAUDAZ \t Predicted: CAR\n",
      "Ground truth: EMPTY \t Predicted: CAR\n",
      "Ground truth: MOLLARD \t Predicted: CA\n",
      "Ground truth: LUCIE \t Predicted: LA\n",
      "Ground truth: GRAGLIA \t Predicted: CA\n",
      "Ground truth: GWENOLE \t Predicted: LA\n",
      "Ground truth: TIMOTHIE \t Predicted: A\n",
      "Ground truth: EVAN \t Predicted: LA\n",
      "Ground truth: TOMLINSON \t Predicted: CAR\n",
      "Ground truth: DIARRA \t Predicted: LAR\n",
      "Ground truth:  \t Predicted: CA\n",
      "Ground truth: BERTHON \t Predicted: CAR\n",
      "Ground truth: VILAR \t Predicted: LAL\n",
      "Ground truth: VELLUET \t Predicted: CAR\n",
      "Ground truth: MATHEO \t Predicted: LA\n",
      "Ground truth: LAINE \t Predicted: LAR\n",
      "Ground truth: JEAN \t Predicted: LA\n",
      "Ground truth: LUCA \t Predicted: LAR\n",
      "Ground truth: GRIPAY \t Predicted: LAL\n",
      "Ground truth: DEIANA \t Predicted: CA\n",
      "Ground truth: CHIARA \t Predicted: LAR\n",
      "Ground truth: MENUET \t Predicted: CA\n",
      "Ground truth: ANOUK \t Predicted: MA\n",
      "Ground truth: AMADA \t Predicted: LAR\n",
      "Ground truth: NAWELL \t Predicted: LA\n",
      "Ground truth: MAXIME \t Predicted: LAR\n",
      "Ground truth: AYEL \t Predicted: LA\n",
      "Ground truth: AMARO \t Predicted: LAR\n",
      "Ground truth: DESMULIE \t Predicted: CAR\n",
      "Ground truth: EVA \t Predicted: LA\n",
      "Ground truth: ROSSET \t Predicted: LE\n",
      "Ground truth: NICOLAS \t Predicted: LA\n",
      "Ground truth: PIERRE \t Predicted: LA\n",
      "Ground truth: CELIA \t Predicted: LA\n",
      "Ground truth: THOMAS \t Predicted: CAR\n",
      "Ground truth: CYNTHIA \t Predicted: CAR\n",
      "Ground truth: MOUREY \t Predicted: LAL\n",
      "Ground truth: MAXIME \t Predicted: LA\n",
      "Ground truth: TOM \t Predicted: LA\n",
      "Ground truth: ALISAMEE \t Predicted: CA\n",
      "Ground truth: BOULILOT \t Predicted: CA\n",
      "Ground truth: HUGO \t Predicted: LA\n",
      "Ground truth: NAEL \t Predicted: MA\n",
      "Ground truth: THEOPHILE \t Predicted: CAR\n",
      "Ground truth: HOURIEZ \t Predicted: CAR\n",
      "Ground truth: SOUTHGATE \t Predicted: CAR\n",
      "Ground truth: NATHAN \t Predicted: MA\n",
      "Ground truth: JO \t Predicted: A\n",
      "Ground truth: AUCLAIR \t Predicted: CAR\n",
      "Ground truth: ALBENY \t Predicted: LAL\n",
      "Ground truth: LOANE \t Predicted: LA\n",
      "Ground truth: ELISE \t Predicted: LAR\n",
      "Ground truth: ANNAELLE \t Predicted: LA\n",
      "Ground truth: GHARRSALLAH \t Predicted: CAR\n",
      "Ground truth: SAISSAC \t Predicted: CAR\n",
      "Ground truth: JULES \t Predicted: LAL\n",
      "Ground truth: AMBRE \t Predicted: LAL\n",
      "Ground truth: CLEMENCE \t Predicted: CAR\n",
      "Ground truth: BARRAUD \t Predicted: CAR\n",
      "Ground truth: TIMOTHE \t Predicted: CAR\n",
      "Ground truth: LOZAC'H \t Predicted: CA\n",
      "Ground truth: LOPO \t Predicted: LA\n",
      "Ground truth: MATHILDE \t Predicted: CAR\n",
      "Ground truth: AXEL \t Predicted: LA\n",
      "Ground truth: SALOME \t Predicted: LAR\n",
      "Ground truth: BERIVOTRA GUICHARD \t Predicted: LAR\n",
      "Ground truth: FARAH \t Predicted: LAR\n",
      "Ground truth: LAURA \t Predicted: LA\n",
      "Ground truth: SIMON \t Predicted: LAR\n",
      "Ground truth: EMMA \t Predicted: LA\n",
      "Ground truth: ZOE \t Predicted: LA\n",
      "Ground truth: BROUARD \t Predicted: CA\n",
      "Ground truth: CHLOE \t Predicted: LA\n",
      "Ground truth: THEO \t Predicted: LA\n",
      "Ground truth: LOUISON \t Predicted: LA\n",
      "Ground truth: HERMARY \t Predicted: CAR\n",
      "Ground truth: BRAQUAUAL \t Predicted: CAR\n",
      "Ground truth: TIPHAINE \t Predicted: LA\n",
      "Ground truth: TESS \t Predicted: LAL\n",
      "Ground truth: CLEMENT \t Predicted: LA\n",
      "Ground truth: VERA \t Predicted: LA\n",
      "Ground truth: NOAH \t Predicted: LA\n",
      "Ground truth: SIMMY \t Predicted: LA\n",
      "Ground truth: LUCILE \t Predicted: LAL\n",
      "Ground truth: DUBOIS \t Predicted: LAL\n",
      "Ground truth: ANAELLE \t Predicted: CAR\n",
      "Ground truth: LAKHDIM \t Predicted: CAR\n",
      "Ground truth: GAETAN \t Predicted: LAR\n",
      "Ground truth: THOMAS \t Predicted: LAL\n",
      "Ground truth: YOANN \t Predicted: LA\n",
      "Ground truth: MARINE \t Predicted: MA\n",
      "Ground truth: YAGHUR \t Predicted: CAR\n",
      "Ground truth: LUCIE \t Predicted: LAL\n",
      "Ground truth: LAURIE \t Predicted: LA\n",
      "Ground truth: NELLO \t Predicted: LA\n",
      "Ground truth: ANDRANIK \t Predicted: CAR\n",
      "Ground truth: EMMA \t Predicted: LA\n",
      "Ground truth: JUSTINE \t Predicted: CAR\n",
      "Ground truth: CHAGRAOUI \t Predicted: CA\n",
      "Ground truth: NOH \t Predicted: A\n",
      "Ground truth: ANNAELLE \t Predicted: CAR\n",
      "Ground truth: NAU \t Predicted: LA\n",
      "Ground truth: ANTONIE \t Predicted: CAR\n",
      "Ground truth: VALENTINE \t Predicted: CAR\n",
      "Ground truth: ENORA \t Predicted: MA\n",
      "Ground truth: COUDERT \t Predicted: LA\n",
      "Ground truth: PAUL \t Predicted: MA\n",
      "Ground truth: AMIN \t Predicted: MA\n",
      "Ground truth: GELIN \t Predicted: LAR\n"
     ]
    },
    {
     "data": {
      "image/png": "[encoded data removed]",
      "text/plain": [
       "<Figure size 432x288 with 1 Axes>"
      ]
     },
     "metadata": {
      "needs_background": "light"
     },
     "output_type": "display_data"
    }
   ],
   "source": [
    "for p, (inp_value, _) in enumerate(validation_generator):\n",
    "    bs = inp_value['input_data'].shape[0]\n",
    "    X_data = inp_value['input_data']\n",
    "    labels = inp_value['input_label']\n",
    "    plt.imshow(X_data[0])\n",
    "    preds = prediction_model.predict(X_data)\n",
    "    pred_texts = decode_batch_predictions(preds)\n",
    "    \n",
    "    \n",
    "    orig_texts = []\n",
    "    for label in labels:\n",
    "        text = ''.join([label_to_char[int(x)] for x in label])\n",
    "        orig_texts.append(text)\n",
    "        \n",
    "    for i in range(bs):\n",
    "        print(f'Ground truth: {orig_texts[i]} \\t Predicted: {pred_texts[i]}')\n",
    "    break"
   ]
  },
  {
   "cell_type": "code",
   "execution_count": 22,
   "metadata": {
    "execution": {
     "iopub.execute_input": "2024-08-20T07:03:41.582967Z",
     "iopub.status.busy": "2024-08-20T07:03:41.582115Z",
     "iopub.status.idle": "2024-08-20T07:03:43.346937Z",
     "shell.execute_reply": "2024-08-20T07:03:43.346246Z",
     "shell.execute_reply.started": "2024-08-20T05:33:34.019993Z"
    },
    "papermill": {
     "duration": 2.121624,
     "end_time": "2024-08-20T07:03:43.347130",
     "exception": false,
     "start_time": "2024-08-20T07:03:41.225506",
     "status": "completed"
    },
    "tags": []
   },
   "outputs": [
    {
     "name": "stdout",
     "output_type": "stream",
     "text": [
      "Predicted Text: LAL\n"
     ]
    },
    {
     "data": {
      "image/png": "[encoded data removed]",
      "text/plain": [
       "<Figure size 432x288 with 1 Axes>"
      ]
     },
     "metadata": {
      "needs_background": "light"
     },
     "output_type": "display_data"
    }
   ],
   "source": [
    "batch_images=np.ones((128,256,64,1),dtype=np.float32)\n",
    "img=cv2.imread('../input/handwriting-recognition/test_v2/test/TEST_0004.jpg')\n",
    "img=cv2.cvtColor(img, cv2.COLOR_BGR2GRAY)\n",
    "img=cv2.resize(img,(256,64))\n",
    "img=(img/255).astype(np.float32)\n",
    "img=img.T\n",
    "img=np.expand_dims(img,axis=-1)\n",
    "batch_images[0]=img\n",
    "x=prediction_model.predict(batch_images)\n",
    "pred_texts = decode_batch_predictions(x)\n",
    "pred_texts = pred_texts[0]\n",
    "im=cv2.imread('../input/handwriting-recognition/test_v2/test/TEST_0004.jpg')\n",
    "plt.imshow(im)\n",
    "print('Predicted Text:',pred_texts)"
   ]
  }
 ],
 "metadata": {
  "kaggle": {
   "accelerator": "gpu",
   "dataSources": [
    {
     "datasetId": 818027,
     "sourceId": 1400106,
     "sourceType": "datasetVersion"
    }
   ],
   "dockerImageVersionId": 30066,
   "isGpuEnabled": true,
   "isInternetEnabled": false,
   "language": "python",
   "sourceType": "notebook"
  },
  "kernelspec": {
   "display_name": "Python 3",
   "language": "python",
   "name": "python3"
  },
  "language_info": {
   "codemirror_mode": {
    "name": "ipython",
    "version": 3
   },
   "file_extension": ".py",
   "mimetype": "text/x-python",
   "name": "python",
   "nbconvert_exporter": "python",
   "pygments_lexer": "ipython3",
   "version": "3.7.9"
  },
  "papermill": {
   "default_parameters": {},
   "duration": 4751.848578,
   "end_time": "2024-08-20T07:03:45.606735",
   "environment_variables": {},
   "exception": null,
   "input_path": "__notebook__.ipynb",
   "output_path": "__notebook__.ipynb",
   "parameters": {},
   "start_time": "2024-08-20T05:44:33.758157",
   "version": "2.2.2"
  }
 },
 "nbformat": 4,
 "nbformat_minor": 4
}
